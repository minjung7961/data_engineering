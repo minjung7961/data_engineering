{
 "cells": [
  {
   "cell_type": "markdown",
   "id": "cdc40c1e",
   "metadata": {},
   "source": [
    "#### zeros()\n",
    "###### -괄호 안에 입력된 숫자만큼의 원소를 생성하고 0으로 초기화"
   ]
  },
  {
   "cell_type": "code",
   "execution_count": 2,
   "id": "eff5741a",
   "metadata": {},
   "outputs": [],
   "source": [
    "import numpy as np"
   ]
  },
  {
   "cell_type": "markdown",
   "id": "7199c7d8",
   "metadata": {},
   "source": [
    "!는 운영체제에 명령어 날린다는 소리\n",
    "\n",
    "!pip install numpy"
   ]
  },
  {
   "cell_type": "code",
   "execution_count": 3,
   "id": "e87e3a66",
   "metadata": {},
   "outputs": [
    {
     "data": {
      "text/plain": [
       "[1, 2, 3]"
      ]
     },
     "execution_count": 3,
     "metadata": {},
     "output_type": "execute_result"
    }
   ],
   "source": [
    "[1,2,3]"
   ]
  },
  {
   "cell_type": "markdown",
   "id": "68181e08",
   "metadata": {},
   "source": [
    "리스트를 배열로 만들어보자"
   ]
  },
  {
   "cell_type": "code",
   "execution_count": 4,
   "id": "05e19f38",
   "metadata": {},
   "outputs": [
    {
     "name": "stdout",
     "output_type": "stream",
     "text": [
      "(3,)\n"
     ]
    }
   ],
   "source": [
    "np.array\n",
    "x = np.array([1,2,3])\n",
    "type(x)\n",
    "print(x.shape)"
   ]
  },
  {
   "cell_type": "code",
   "execution_count": 5,
   "id": "7d809035",
   "metadata": {},
   "outputs": [
    {
     "data": {
      "text/plain": [
       "array([[0., 0., 0., 0., 0.],\n",
       "       [0., 0., 0., 0., 0.],\n",
       "       [0., 0., 0., 0., 0.],\n",
       "       [0., 0., 0., 0., 0.],\n",
       "       [0., 0., 0., 0., 0.],\n",
       "       [0., 0., 0., 0., 0.],\n",
       "       [0., 0., 0., 0., 0.],\n",
       "       [0., 0., 0., 0., 0.],\n",
       "       [0., 0., 0., 0., 0.],\n",
       "       [0., 0., 0., 0., 0.]])"
      ]
     },
     "execution_count": 5,
     "metadata": {},
     "output_type": "execute_result"
    }
   ],
   "source": [
    "y = np.zeros(shape = (10,5))\n",
    "y"
   ]
  },
  {
   "cell_type": "markdown",
   "id": "7b384e0b",
   "metadata": {},
   "source": [
    "#### 배열에 저장된 원소들의 평균값을 계산"
   ]
  },
  {
   "cell_type": "code",
   "execution_count": 6,
   "id": "d4a4f76e",
   "metadata": {},
   "outputs": [
    {
     "name": "stdout",
     "output_type": "stream",
     "text": [
      "2.0\n",
      "(3,)\n"
     ]
    }
   ],
   "source": [
    "import numpy as np\n",
    "\n",
    "list_1 = [1,2,3]\n",
    "x = np.array(list_1)\n",
    "print(np.mean(x))\n",
    "print(x.shape)"
   ]
  },
  {
   "cell_type": "markdown",
   "id": "5ffe8161",
   "metadata": {},
   "source": [
    "#### array() Numpy 형식으로 배열의 원소를 입력할 때는 반드시 리스트 형식으로 입력"
   ]
  },
  {
   "cell_type": "code",
   "execution_count": 7,
   "id": "12954784",
   "metadata": {},
   "outputs": [
    {
     "name": "stdout",
     "output_type": "stream",
     "text": [
      "[1 2 3] [4 5 6] {4: 5, 6: 7}\n"
     ]
    }
   ],
   "source": [
    "x = np.array([1,2,3])\n",
    "y = np.array((4,5,6))\n",
    "z = np.array({4:5,6:7})\n",
    "print(x,y,z)"
   ]
  },
  {
   "cell_type": "markdown",
   "id": "57ee71b4",
   "metadata": {},
   "source": [
    "#### reshape() 배열을 원하는 모양으로 생성"
   ]
  },
  {
   "cell_type": "code",
   "execution_count": 8,
   "id": "089a605b",
   "metadata": {},
   "outputs": [
    {
     "name": "stdout",
     "output_type": "stream",
     "text": [
      "[[1 2 3 4]\n",
      " [5 6 7 8]]\n",
      "\n",
      "\n",
      "[[1 2]\n",
      " [3 4]\n",
      " [5 6]\n",
      " [7 8]]\n"
     ]
    }
   ],
   "source": [
    "import numpy as np\n",
    "a = [1,2,3,4,5,6,7,8]\n",
    "b = np.reshape(a,(2,4))\n",
    "c = np.reshape(a,(4,2))\n",
    "print(b)\n",
    "print('\\n')\n",
    "print(c)"
   ]
  },
  {
   "cell_type": "markdown",
   "id": "92a04759",
   "metadata": {},
   "source": [
    "#### reshape() 3차원 배열을 원하는 모양으로 생성"
   ]
  },
  {
   "cell_type": "code",
   "execution_count": 9,
   "id": "a78874f3",
   "metadata": {},
   "outputs": [
    {
     "name": "stdout",
     "output_type": "stream",
     "text": [
      "[1 2 3 4 5 6 7 8]\n",
      "[[[1 2]\n",
      "  [3 4]]\n",
      "\n",
      " [[5 6]\n",
      "  [7 8]]]\n"
     ]
    }
   ],
   "source": [
    "a = np.arange(1,9)\n",
    "print(a)\n",
    "b = a.reshape(2,2,2)\n",
    "print(b)"
   ]
  },
  {
   "cell_type": "code",
   "execution_count": 10,
   "id": "192aa674",
   "metadata": {},
   "outputs": [
    {
     "name": "stdout",
     "output_type": "stream",
     "text": [
      "[ 1  2  3  4  5  6  7  8  9 10 11 12]\n",
      "[[[ 1  2]\n",
      "  [ 3  4]]\n",
      "\n",
      " [[ 5  6]\n",
      "  [ 7  8]]\n",
      "\n",
      " [[ 9 10]\n",
      "  [11 12]]]\n"
     ]
    }
   ],
   "source": [
    "a = np.arange(1,13)\n",
    "print(a)\n",
    "b = a.reshape(3,2,2)\n",
    "print(b)"
   ]
  },
  {
   "cell_type": "markdown",
   "id": "630a026d",
   "metadata": {},
   "source": [
    "#### reshape에서 -1의 의미\n",
    "###### reshape를 활용하는 경우를 보다 보면 입력인수로 -1이 들어간 경우가 종종 있다.\n",
    "reshape()의 ‘-1’이 의미하는 바는, 변경된 배열의 ‘-1’ 위치의 차원은 “원래 배열의 길이와 남은 차원으로 부터 추정”이 된다는 뜻이다."
   ]
  },
  {
   "cell_type": "code",
   "execution_count": 11,
   "id": "e9896812",
   "metadata": {},
   "outputs": [
    {
     "data": {
      "text/plain": [
       "array([[ 1],\n",
       "       [ 2],\n",
       "       [ 3],\n",
       "       [ 4],\n",
       "       [ 5],\n",
       "       [ 6],\n",
       "       [ 7],\n",
       "       [ 8],\n",
       "       [ 9],\n",
       "       [10],\n",
       "       [11],\n",
       "       [12]])"
      ]
     },
     "execution_count": 11,
     "metadata": {},
     "output_type": "execute_result"
    }
   ],
   "source": [
    "a = np.arange(1,13)\n",
    "a.reshape(-1,1)"
   ]
  },
  {
   "cell_type": "code",
   "execution_count": 12,
   "id": "752b4453",
   "metadata": {},
   "outputs": [
    {
     "data": {
      "text/plain": [
       "array([[ 1,  2],\n",
       "       [ 3,  4],\n",
       "       [ 5,  6],\n",
       "       [ 7,  8],\n",
       "       [ 9, 10],\n",
       "       [11, 12]])"
      ]
     },
     "execution_count": 12,
     "metadata": {},
     "output_type": "execute_result"
    }
   ],
   "source": [
    "a.reshape(-1,2)"
   ]
  },
  {
   "cell_type": "code",
   "execution_count": 13,
   "id": "f572fcab",
   "metadata": {},
   "outputs": [
    {
     "data": {
      "text/plain": [
       "array([[ 1,  2,  3],\n",
       "       [ 4,  5,  6],\n",
       "       [ 7,  8,  9],\n",
       "       [10, 11, 12]])"
      ]
     },
     "execution_count": 13,
     "metadata": {},
     "output_type": "execute_result"
    }
   ],
   "source": [
    "a.reshape(-1,3)"
   ]
  },
  {
   "cell_type": "code",
   "execution_count": 14,
   "id": "e284e993",
   "metadata": {},
   "outputs": [
    {
     "data": {
      "text/plain": [
       "array([[ 1,  2,  3,  4],\n",
       "       [ 5,  6,  7,  8],\n",
       "       [ 9, 10, 11, 12]])"
      ]
     },
     "execution_count": 14,
     "metadata": {},
     "output_type": "execute_result"
    }
   ],
   "source": [
    "a.reshape(-1,4)"
   ]
  },
  {
   "cell_type": "code",
   "execution_count": 15,
   "id": "d7f34a86",
   "metadata": {},
   "outputs": [
    {
     "data": {
      "text/plain": [
       "array([[ 1,  2,  3,  4,  5,  6],\n",
       "       [ 7,  8,  9, 10, 11, 12]])"
      ]
     },
     "execution_count": 15,
     "metadata": {},
     "output_type": "execute_result"
    }
   ],
   "source": [
    "a.reshape(-1,6)"
   ]
  },
  {
   "cell_type": "markdown",
   "id": "a6034aae",
   "metadata": {},
   "source": [
    "#### ones() 실습"
   ]
  },
  {
   "cell_type": "code",
   "execution_count": 16,
   "id": "1885ffc0",
   "metadata": {},
   "outputs": [
    {
     "name": "stdout",
     "output_type": "stream",
     "text": [
      "[[[5. 5.]\n",
      "  [5. 5.]\n",
      "  [5. 5.]\n",
      "  [5. 5.]]\n",
      "\n",
      " [[5. 5.]\n",
      "  [5. 5.]\n",
      "  [5. 5.]\n",
      "  [5. 5.]]\n",
      "\n",
      " [[5. 5.]\n",
      "  [5. 5.]\n",
      "  [5. 5.]\n",
      "  [5. 5.]]]\n"
     ]
    }
   ],
   "source": [
    "x = np.ones([3,4,2])\n",
    "print(x * 5)"
   ]
  },
  {
   "cell_type": "markdown",
   "id": "e3ac3e5a",
   "metadata": {},
   "source": [
    "#### Numpy 배열의 슬라이싱"
   ]
  },
  {
   "cell_type": "code",
   "execution_count": 17,
   "id": "0c9c89d1",
   "metadata": {},
   "outputs": [
    {
     "name": "stdout",
     "output_type": "stream",
     "text": [
      "[2, 12]\n"
     ]
    },
    {
     "ename": "TypeError",
     "evalue": "list indices must be integers or slices, not tuple",
     "output_type": "error",
     "traceback": [
      "\u001b[1;31m---------------------------------------------------------------------------\u001b[0m",
      "\u001b[1;31mTypeError\u001b[0m                                 Traceback (most recent call last)",
      "\u001b[1;32m<ipython-input-17-78deffac98fe>\u001b[0m in \u001b[0;36m<module>\u001b[1;34m\u001b[0m\n\u001b[0;32m      1\u001b[0m \u001b[0mlist1\u001b[0m \u001b[1;33m=\u001b[0m \u001b[1;33m[\u001b[0m\u001b[1;33m[\u001b[0m\u001b[1;36m1\u001b[0m\u001b[1;33m,\u001b[0m\u001b[1;36m11\u001b[0m\u001b[1;33m]\u001b[0m\u001b[1;33m,\u001b[0m\u001b[1;33m[\u001b[0m\u001b[1;36m2\u001b[0m\u001b[1;33m,\u001b[0m\u001b[1;36m12\u001b[0m\u001b[1;33m]\u001b[0m\u001b[1;33m,\u001b[0m\u001b[1;33m[\u001b[0m\u001b[1;36m3\u001b[0m\u001b[1;33m,\u001b[0m\u001b[1;36m133\u001b[0m\u001b[1;33m]\u001b[0m\u001b[1;33m,\u001b[0m\u001b[1;33m[\u001b[0m\u001b[1;36m4\u001b[0m\u001b[1;33m,\u001b[0m\u001b[1;36m14\u001b[0m\u001b[1;33m]\u001b[0m\u001b[1;33m]\u001b[0m\u001b[1;33m\u001b[0m\u001b[1;33m\u001b[0m\u001b[0m\n\u001b[0;32m      2\u001b[0m \u001b[0mprint\u001b[0m\u001b[1;33m(\u001b[0m\u001b[0mlist1\u001b[0m\u001b[1;33m[\u001b[0m\u001b[1;33m:\u001b[0m\u001b[1;33m]\u001b[0m\u001b[1;33m[\u001b[0m\u001b[1;36m1\u001b[0m\u001b[1;33m]\u001b[0m\u001b[1;33m)\u001b[0m\u001b[1;33m\u001b[0m\u001b[1;33m\u001b[0m\u001b[0m\n\u001b[1;32m----> 3\u001b[1;33m \u001b[0mprint\u001b[0m\u001b[1;33m(\u001b[0m\u001b[0mlist1\u001b[0m\u001b[1;33m[\u001b[0m\u001b[1;33m:\u001b[0m\u001b[1;33m,\u001b[0m \u001b[1;36m1\u001b[0m\u001b[1;33m]\u001b[0m\u001b[1;33m)\u001b[0m\u001b[1;33m\u001b[0m\u001b[1;33m\u001b[0m\u001b[0m\n\u001b[0m",
      "\u001b[1;31mTypeError\u001b[0m: list indices must be integers or slices, not tuple"
     ]
    }
   ],
   "source": [
    "list1 = [[1,11],[2,12],[3,133],[4,14]]\n",
    "print(list1[:][1])\n",
    "print(list1[:, 1])"
   ]
  },
  {
   "cell_type": "code",
   "execution_count": null,
   "id": "6bf7a8da",
   "metadata": {},
   "outputs": [],
   "source": [
    "list1 = [[1,11],[2,12],[3,133],[4,14]]\n",
    "arr = np.array(list1)\n",
    "print(arr)\n",
    "print()\n",
    "print(arr[: ,1])\n",
    "print()\n",
    "print(arr[:][1])\n",
    "print()\n",
    "print(arr[1][1])"
   ]
  },
  {
   "cell_type": "code",
   "execution_count": null,
   "id": "dbe0f58c",
   "metadata": {},
   "outputs": [],
   "source": [
    "print(arr[0:][:])"
   ]
  },
  {
   "cell_type": "code",
   "execution_count": null,
   "id": "42f8f674",
   "metadata": {},
   "outputs": [],
   "source": [
    "print(arr[1:4,1])"
   ]
  },
  {
   "cell_type": "markdown",
   "id": "b1249706",
   "metadata": {},
   "source": [
    "### numpy 와 math 연산 비교"
   ]
  },
  {
   "cell_type": "code",
   "execution_count": null,
   "id": "77882a6b",
   "metadata": {},
   "outputs": [],
   "source": [
    "import math\n",
    "print(math.sqrt(2))\n",
    "print(math.sqrt([2,3,4]))"
   ]
  },
  {
   "cell_type": "code",
   "execution_count": null,
   "id": "2f1113bf",
   "metadata": {},
   "outputs": [],
   "source": [
    "import numpy as np"
   ]
  },
  {
   "cell_type": "code",
   "execution_count": null,
   "id": "f753656e",
   "metadata": {},
   "outputs": [],
   "source": [
    "np.sqrt(2)"
   ]
  },
  {
   "cell_type": "code",
   "execution_count": null,
   "id": "837c8f3d",
   "metadata": {},
   "outputs": [],
   "source": [
    "np.sqrt([2,3,4])"
   ]
  },
  {
   "cell_type": "code",
   "execution_count": null,
   "id": "a343c831",
   "metadata": {},
   "outputs": [],
   "source": [
    "import numpy as np\n",
    "\n",
    "x = np.zeros([5,3])\n",
    "print(x)\n",
    "print()\n",
    "print(x.reshape(3,5))"
   ]
  },
  {
   "cell_type": "markdown",
   "id": "41979b03",
   "metadata": {},
   "source": [
    "#### report\n"
   ]
  },
  {
   "cell_type": "code",
   "execution_count": null,
   "id": "23f33a52",
   "metadata": {},
   "outputs": [],
   "source": [
    "x = np.ones([3,4])\n",
    "\n",
    "x*5"
   ]
  },
  {
   "cell_type": "markdown",
   "id": "f993427c",
   "metadata": {},
   "source": [
    "#### 전치행렬"
   ]
  },
  {
   "cell_type": "markdown",
   "id": "26339099",
   "metadata": {},
   "source": [
    "transpose()"
   ]
  },
  {
   "cell_type": "code",
   "execution_count": null,
   "id": "679036b4",
   "metadata": {},
   "outputs": [],
   "source": [
    "import numpy as np\n",
    "\n",
    "x = np.array([[1,2],[3,4]])\n",
    "print(x)\n",
    "print()\n",
    "trans_ary = x.transpose()\n",
    "print(trans_ary)"
   ]
  },
  {
   "cell_type": "code",
   "execution_count": null,
   "id": "0f4a6ac8",
   "metadata": {},
   "outputs": [],
   "source": [
    "import numpy as np\n",
    "\n",
    "x = np.array([[1,2,5],[3,4,5]])\n",
    "print(x)\n",
    "print()\n",
    "trans_ary = x.transpose()\n",
    "print(trans_ary)"
   ]
  },
  {
   "cell_type": "markdown",
   "id": "618bde25",
   "metadata": {},
   "source": [
    "배열의 사칙연산"
   ]
  },
  {
   "cell_type": "markdown",
   "id": "68fb8dc6",
   "metadata": {},
   "source": [
    "#### 2개 배열에 대한 연산\n",
    "- 2개 배열에 저장된 내용을 인덱스별로 계산\n",
    "- 선형대수학의 사칙연산과 동일하게 작동\n",
    "- 곱셈도 같은 원리로 동작"
   ]
  },
  {
   "cell_type": "code",
   "execution_count": null,
   "id": "19dd26a4",
   "metadata": {},
   "outputs": [],
   "source": [
    "x = np.array((3,4,5))\n",
    "y = np.array((1,2,3))\n",
    "print(x+y)\n",
    "print(x-y)\n",
    "print(x/y)\n",
    "print(x*y)\n",
    "print(x**y)\n",
    "print(x%y)"
   ]
  },
  {
   "cell_type": "code",
   "execution_count": null,
   "id": "3fc6e87a",
   "metadata": {},
   "outputs": [],
   "source": [
    "x = np.array((3,4,5))\n",
    "y = np.array((1,2,3))\n",
    "print(x + 1)\n",
    "print(x **5)\n",
    "print(type(x**5))"
   ]
  },
  {
   "cell_type": "markdown",
   "id": "5475429d",
   "metadata": {},
   "source": [
    "위의연산을 리스트는 할수가 없다"
   ]
  },
  {
   "cell_type": "markdown",
   "id": "fb6d8b23",
   "metadata": {},
   "source": [
    "### 인덱싱"
   ]
  },
  {
   "cell_type": "code",
   "execution_count": null,
   "id": "5a0aa1e2",
   "metadata": {},
   "outputs": [],
   "source": [
    "x = np.array([\n",
    "    [1,2,3],\n",
    "    [4,5,6],\n",
    "    [7,8,9]\n",
    "])\n",
    "print(x[1])\n",
    "print()\n",
    "print(x[:,1])\n",
    "print()"
   ]
  },
  {
   "cell_type": "code",
   "execution_count": null,
   "id": "ad4a3ec4",
   "metadata": {},
   "outputs": [],
   "source": [
    "x = np.array([\n",
    "    [1,2,3],\n",
    "    [4,5,6],\n",
    "    [7,8,9]\n",
    "])\n",
    "y = np.array([\n",
    "    [2,3,4],\n",
    "    [5,6,7],\n",
    "    [8,9,10]\n",
    "])\n",
    "\n",
    "print(x[0]+y[2])\n",
    "print()\n",
    "print(x[:,1]*y[2])"
   ]
  },
  {
   "cell_type": "code",
   "execution_count": 18,
   "id": "341a7a46",
   "metadata": {},
   "outputs": [
    {
     "name": "stdout",
     "output_type": "stream",
     "text": [
      "[False False False  True  True]\n"
     ]
    }
   ],
   "source": [
    "a = np.array([10,20,30,40,60])\n",
    "b = a>30\n",
    "print(b)"
   ]
  },
  {
   "cell_type": "markdown",
   "id": "db04deb8",
   "metadata": {},
   "source": [
    "#### random()"
   ]
  },
  {
   "cell_type": "markdown",
   "id": "25065863",
   "metadata": {},
   "source": [
    "0과 1에서사이의 균일한 분포 출력"
   ]
  },
  {
   "cell_type": "code",
   "execution_count": 24,
   "id": "d79ca9e8",
   "metadata": {},
   "outputs": [
    {
     "name": "stdout",
     "output_type": "stream",
     "text": [
      "[[[0.65629938 0.65062723 0.87043881]\n",
      "  [0.71054162 0.74243187 0.27902004]\n",
      "  [0.97799602 0.12127982 0.5972821 ]]\n",
      "\n",
      " [[0.62281672 0.11816659 0.08977857]\n",
      "  [0.13158117 0.48734704 0.47853675]\n",
      "  [0.52643211 0.85527001 0.71967339]]\n",
      "\n",
      " [[0.55995    0.18165262 0.53916332]\n",
      "  [0.91745098 0.15211029 0.56208941]\n",
      "  [0.33048411 0.48877474 0.03984754]]]\n"
     ]
    }
   ],
   "source": [
    "import numpy as np\n",
    "\n",
    "ary = np.random.rand(3,3,3)\n",
    "print(ary)"
   ]
  },
  {
   "cell_type": "markdown",
   "id": "e4d9710c",
   "metadata": {},
   "source": [
    "#### randint 실습"
   ]
  },
  {
   "cell_type": "code",
   "execution_count": 271,
   "id": "2282fd84",
   "metadata": {},
   "outputs": [
    {
     "data": {
      "text/plain": [
       "array([[0, 4, 9, 5, 4],\n",
       "       [8, 2, 9, 4, 2]])"
      ]
     },
     "execution_count": 271,
     "metadata": {},
     "output_type": "execute_result"
    }
   ],
   "source": [
    "a = np.random.randint(10, size=(2,5))\n",
    "a"
   ]
  },
  {
   "cell_type": "markdown",
   "id": "fab0c255",
   "metadata": {},
   "source": [
    "#### random.seed 실습"
   ]
  },
  {
   "cell_type": "code",
   "execution_count": 276,
   "id": "d19dbd87",
   "metadata": {},
   "outputs": [
    {
     "name": "stdout",
     "output_type": "stream",
     "text": [
      "[[[0.5488135  0.71518937 0.60276338]\n",
      "  [0.54488318 0.4236548  0.64589411]\n",
      "  [0.43758721 0.891773   0.96366276]]\n",
      "\n",
      " [[0.38344152 0.79172504 0.52889492]\n",
      "  [0.56804456 0.92559664 0.07103606]\n",
      "  [0.0871293  0.0202184  0.83261985]]\n",
      "\n",
      " [[0.77815675 0.87001215 0.97861834]\n",
      "  [0.79915856 0.46147936 0.78052918]\n",
      "  [0.11827443 0.63992102 0.14335329]]]\n"
     ]
    }
   ],
   "source": [
    "import numpy as np\n",
    "\n",
    "np.random.seed(0)\n",
    "\n",
    "print(np.random.rand(3,3,3))"
   ]
  },
  {
   "cell_type": "markdown",
   "id": "4a0b7b5c",
   "metadata": {},
   "source": [
    "any() 와 all()의 비교"
   ]
  },
  {
   "cell_type": "code",
   "execution_count": 320,
   "id": "12e5e094",
   "metadata": {},
   "outputs": [
    {
     "name": "stdout",
     "output_type": "stream",
     "text": [
      "[False False False False False]\n",
      "False\n"
     ]
    }
   ],
   "source": [
    "a = np.random.rand(5)\n",
    "print(a>3)\n",
    "print(np.all(a>0.12))"
   ]
  },
  {
   "cell_type": "code",
   "execution_count": 372,
   "id": "43699444",
   "metadata": {},
   "outputs": [
    {
     "name": "stdout",
     "output_type": "stream",
     "text": [
      "[False False False False False]\n",
      "False\n"
     ]
    }
   ],
   "source": [
    "a = np.random.rand(5)\n",
    "print(a>3)\n",
    "print(np.any(a>0.8))"
   ]
  },
  {
   "cell_type": "markdown",
   "id": "6a119836",
   "metadata": {},
   "source": [
    "linspace()"
   ]
  },
  {
   "cell_type": "code",
   "execution_count": 379,
   "id": "6fee4b31",
   "metadata": {},
   "outputs": [
    {
     "data": {
      "text/plain": [
       "array([ 0.,  6., 12.])"
      ]
     },
     "execution_count": 379,
     "metadata": {},
     "output_type": "execute_result"
    }
   ],
   "source": [
    "np.linspace(0,12,3)"
   ]
  },
  {
   "cell_type": "markdown",
   "id": "1f6db645",
   "metadata": {},
   "source": [
    "##### 시작과 긑의 로그 형태의 간격으로 나누어진 원소들을 배열로생성"
   ]
  },
  {
   "cell_type": "code",
   "execution_count": 385,
   "id": "1c7494a4",
   "metadata": {},
   "outputs": [
    {
     "data": {
      "text/plain": [
       "array([ 0.,  6., 12.])"
      ]
     },
     "execution_count": 385,
     "metadata": {},
     "output_type": "execute_result"
    }
   ],
   "source": [
    "np.linspace(0,12,3,endpoint=True)"
   ]
  },
  {
   "cell_type": "code",
   "execution_count": 386,
   "id": "db100903",
   "metadata": {},
   "outputs": [
    {
     "data": {
      "text/plain": [
       "(array([ 2.  ,  4.75,  7.5 , 10.25, 13.  ]), 2.75)"
      ]
     },
     "execution_count": 386,
     "metadata": {},
     "output_type": "execute_result"
    }
   ],
   "source": [
    "np.linspace(2,13,5,retstep=True)"
   ]
  },
  {
   "cell_type": "markdown",
   "id": "2b5ab909",
   "metadata": {},
   "source": [
    "logspace()"
   ]
  },
  {
   "cell_type": "code",
   "execution_count": null,
   "id": "87141bd4",
   "metadata": {},
   "outputs": [],
   "source": []
  }
 ],
 "metadata": {
  "kernelspec": {
   "display_name": "Python 3",
   "language": "python",
   "name": "python3"
  },
  "language_info": {
   "codemirror_mode": {
    "name": "ipython",
    "version": 3
   },
   "file_extension": ".py",
   "mimetype": "text/x-python",
   "name": "python",
   "nbconvert_exporter": "python",
   "pygments_lexer": "ipython3",
   "version": "3.8.9"
  }
 },
 "nbformat": 4,
 "nbformat_minor": 5
}
